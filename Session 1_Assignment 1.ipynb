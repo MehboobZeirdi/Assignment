{
 "cells": [
  {
   "cell_type": "markdown",
   "metadata": {},
   "source": [
    "# Session 1 : Assignment 1\n",
    "# Task 1"
   ]
  },
  {
   "cell_type": "markdown",
   "metadata": {},
   "source": [
    "# Q1. Install Jupyter notebook and run the first program and share the screenshot of the output.\n"
   ]
  },
  {
   "cell_type": "code",
   "execution_count": 33,
   "metadata": {},
   "outputs": [
    {
     "name": "stdout",
     "output_type": "stream",
     "text": [
      "Hello World!\n"
     ]
    }
   ],
   "source": [
    "print(\"Hello World!\")"
   ]
  },
  {
   "cell_type": "code",
   "execution_count": 4,
   "metadata": {},
   "outputs": [],
   "source": [
    "year = [2001, 2002, 2003, 2004, 2005]"
   ]
  },
  {
   "cell_type": "code",
   "execution_count": 5,
   "metadata": {},
   "outputs": [],
   "source": [
    "month = ['January', 'February', 'March', 'April', 'May', 'June', 'July', 'August', 'September', 'October', 'November', 'December']"
   ]
  },
  {
   "cell_type": "code",
   "execution_count": 6,
   "metadata": {},
   "outputs": [],
   "source": [
    "week = ['Monday', 'Tuesday', 'Wednesday', 'Thursday', 'Friday', 'Saturday', 'Sunday']"
   ]
  },
  {
   "cell_type": "code",
   "execution_count": 8,
   "metadata": {},
   "outputs": [
    {
     "name": "stdout",
     "output_type": "stream",
     "text": [
      "This is year 2001\n",
      "This is month January\n",
      "This is day Monday\n",
      "This is day Tuesday\n",
      "This is day Wednesday\n",
      "This is day Thursday\n",
      "This is day Friday\n",
      "This is day Saturday\n",
      "This is day Sunday\n",
      "This is month February\n",
      "This is day Monday\n",
      "This is day Tuesday\n",
      "This is day Wednesday\n",
      "This is day Thursday\n",
      "This is day Friday\n",
      "This is day Saturday\n",
      "This is day Sunday\n",
      "This is month March\n",
      "This is day Monday\n",
      "This is day Tuesday\n",
      "This is day Wednesday\n",
      "This is day Thursday\n",
      "This is day Friday\n",
      "This is day Saturday\n",
      "This is day Sunday\n",
      "This is month April\n",
      "This is day Monday\n",
      "This is day Tuesday\n",
      "This is day Wednesday\n",
      "This is day Thursday\n",
      "This is day Friday\n",
      "This is day Saturday\n",
      "This is day Sunday\n",
      "This is month May\n",
      "This is day Monday\n",
      "This is day Tuesday\n",
      "This is day Wednesday\n",
      "This is day Thursday\n",
      "This is day Friday\n",
      "This is day Saturday\n",
      "This is day Sunday\n",
      "This is month June\n",
      "This is day Monday\n",
      "This is day Tuesday\n",
      "This is day Wednesday\n",
      "This is day Thursday\n",
      "This is day Friday\n",
      "This is day Saturday\n",
      "This is day Sunday\n",
      "This is month July\n",
      "This is day Monday\n",
      "This is day Tuesday\n",
      "This is day Wednesday\n",
      "This is day Thursday\n",
      "This is day Friday\n",
      "This is day Saturday\n",
      "This is day Sunday\n",
      "This is month August\n",
      "This is day Monday\n",
      "This is day Tuesday\n",
      "This is day Wednesday\n",
      "This is day Thursday\n",
      "This is day Friday\n",
      "This is day Saturday\n",
      "This is day Sunday\n",
      "This is month September\n",
      "This is day Monday\n",
      "This is day Tuesday\n",
      "This is day Wednesday\n",
      "This is day Thursday\n",
      "This is day Friday\n",
      "This is day Saturday\n",
      "This is day Sunday\n",
      "This is month October\n",
      "This is day Monday\n",
      "This is day Tuesday\n",
      "This is day Wednesday\n",
      "This is day Thursday\n",
      "This is day Friday\n",
      "This is day Saturday\n",
      "This is day Sunday\n",
      "This is month November\n",
      "This is day Monday\n",
      "This is day Tuesday\n",
      "This is day Wednesday\n",
      "This is day Thursday\n",
      "This is day Friday\n",
      "This is day Saturday\n",
      "This is day Sunday\n",
      "This is month December\n",
      "This is day Monday\n",
      "This is day Tuesday\n",
      "This is day Wednesday\n",
      "This is day Thursday\n",
      "This is day Friday\n",
      "This is day Saturday\n",
      "This is day Sunday\n",
      "This is year 2002\n",
      "This is month January\n",
      "This is day Monday\n",
      "This is day Tuesday\n",
      "This is day Wednesday\n",
      "This is day Thursday\n",
      "This is day Friday\n",
      "This is day Saturday\n",
      "This is day Sunday\n",
      "This is month February\n",
      "This is day Monday\n",
      "This is day Tuesday\n",
      "This is day Wednesday\n",
      "This is day Thursday\n",
      "This is day Friday\n",
      "This is day Saturday\n",
      "This is day Sunday\n",
      "This is month March\n",
      "This is day Monday\n",
      "This is day Tuesday\n",
      "This is day Wednesday\n",
      "This is day Thursday\n",
      "This is day Friday\n",
      "This is day Saturday\n",
      "This is day Sunday\n",
      "This is month April\n",
      "This is day Monday\n",
      "This is day Tuesday\n",
      "This is day Wednesday\n",
      "This is day Thursday\n",
      "This is day Friday\n",
      "This is day Saturday\n",
      "This is day Sunday\n",
      "This is month May\n",
      "This is day Monday\n",
      "This is day Tuesday\n",
      "This is day Wednesday\n",
      "This is day Thursday\n",
      "This is day Friday\n",
      "This is day Saturday\n",
      "This is day Sunday\n",
      "This is month June\n",
      "This is day Monday\n",
      "This is day Tuesday\n",
      "This is day Wednesday\n",
      "This is day Thursday\n",
      "This is day Friday\n",
      "This is day Saturday\n",
      "This is day Sunday\n",
      "This is month July\n",
      "This is day Monday\n",
      "This is day Tuesday\n",
      "This is day Wednesday\n",
      "This is day Thursday\n",
      "This is day Friday\n",
      "This is day Saturday\n",
      "This is day Sunday\n",
      "This is month August\n",
      "This is day Monday\n",
      "This is day Tuesday\n",
      "This is day Wednesday\n",
      "This is day Thursday\n",
      "This is day Friday\n",
      "This is day Saturday\n",
      "This is day Sunday\n",
      "This is month September\n",
      "This is day Monday\n",
      "This is day Tuesday\n",
      "This is day Wednesday\n",
      "This is day Thursday\n",
      "This is day Friday\n",
      "This is day Saturday\n",
      "This is day Sunday\n",
      "This is month October\n",
      "This is day Monday\n",
      "This is day Tuesday\n",
      "This is day Wednesday\n",
      "This is day Thursday\n",
      "This is day Friday\n",
      "This is day Saturday\n",
      "This is day Sunday\n",
      "This is month November\n",
      "This is day Monday\n",
      "This is day Tuesday\n",
      "This is day Wednesday\n",
      "This is day Thursday\n",
      "This is day Friday\n",
      "This is day Saturday\n",
      "This is day Sunday\n",
      "This is month December\n",
      "This is day Monday\n",
      "This is day Tuesday\n",
      "This is day Wednesday\n",
      "This is day Thursday\n",
      "This is day Friday\n",
      "This is day Saturday\n",
      "This is day Sunday\n",
      "This is year 2003\n",
      "This is month January\n",
      "This is day Monday\n",
      "This is day Tuesday\n",
      "This is day Wednesday\n",
      "This is day Thursday\n",
      "This is day Friday\n",
      "This is day Saturday\n",
      "This is day Sunday\n",
      "This is month February\n",
      "This is day Monday\n",
      "This is day Tuesday\n",
      "This is day Wednesday\n",
      "This is day Thursday\n",
      "This is day Friday\n",
      "This is day Saturday\n",
      "This is day Sunday\n",
      "This is month March\n",
      "This is day Monday\n",
      "This is day Tuesday\n",
      "This is day Wednesday\n",
      "This is day Thursday\n",
      "This is day Friday\n",
      "This is day Saturday\n",
      "This is day Sunday\n",
      "This is month April\n",
      "This is day Monday\n",
      "This is day Tuesday\n",
      "This is day Wednesday\n",
      "This is day Thursday\n",
      "This is day Friday\n",
      "This is day Saturday\n",
      "This is day Sunday\n",
      "This is month May\n",
      "This is day Monday\n",
      "This is day Tuesday\n",
      "This is day Wednesday\n",
      "This is day Thursday\n",
      "This is day Friday\n",
      "This is day Saturday\n",
      "This is day Sunday\n",
      "This is month June\n",
      "This is day Monday\n",
      "This is day Tuesday\n",
      "This is day Wednesday\n",
      "This is day Thursday\n",
      "This is day Friday\n",
      "This is day Saturday\n",
      "This is day Sunday\n",
      "This is month July\n",
      "This is day Monday\n",
      "This is day Tuesday\n",
      "This is day Wednesday\n",
      "This is day Thursday\n",
      "This is day Friday\n",
      "This is day Saturday\n",
      "This is day Sunday\n",
      "This is month August\n",
      "This is day Monday\n",
      "This is day Tuesday\n",
      "This is day Wednesday\n",
      "This is day Thursday\n",
      "This is day Friday\n",
      "This is day Saturday\n",
      "This is day Sunday\n",
      "This is month September\n",
      "This is day Monday\n",
      "This is day Tuesday\n",
      "This is day Wednesday\n",
      "This is day Thursday\n",
      "This is day Friday\n",
      "This is day Saturday\n",
      "This is day Sunday\n",
      "This is month October\n",
      "This is day Monday\n",
      "This is day Tuesday\n",
      "This is day Wednesday\n",
      "This is day Thursday\n",
      "This is day Friday\n",
      "This is day Saturday\n",
      "This is day Sunday\n",
      "This is month November\n",
      "This is day Monday\n",
      "This is day Tuesday\n",
      "This is day Wednesday\n",
      "This is day Thursday\n",
      "This is day Friday\n",
      "This is day Saturday\n",
      "This is day Sunday\n",
      "This is month December\n",
      "This is day Monday\n",
      "This is day Tuesday\n",
      "This is day Wednesday\n",
      "This is day Thursday\n",
      "This is day Friday\n",
      "This is day Saturday\n",
      "This is day Sunday\n",
      "This is year 2004\n",
      "This is month January\n",
      "This is day Monday\n",
      "This is day Tuesday\n",
      "This is day Wednesday\n",
      "This is day Thursday\n",
      "This is day Friday\n",
      "This is day Saturday\n",
      "This is day Sunday\n",
      "This is month February\n",
      "This is day Monday\n",
      "This is day Tuesday\n",
      "This is day Wednesday\n",
      "This is day Thursday\n",
      "This is day Friday\n",
      "This is day Saturday\n",
      "This is day Sunday\n",
      "This is month March\n",
      "This is day Monday\n",
      "This is day Tuesday\n",
      "This is day Wednesday\n",
      "This is day Thursday\n",
      "This is day Friday\n",
      "This is day Saturday\n",
      "This is day Sunday\n",
      "This is month April\n",
      "This is day Monday\n",
      "This is day Tuesday\n",
      "This is day Wednesday\n",
      "This is day Thursday\n",
      "This is day Friday\n",
      "This is day Saturday\n",
      "This is day Sunday\n",
      "This is month May\n",
      "This is day Monday\n",
      "This is day Tuesday\n",
      "This is day Wednesday\n",
      "This is day Thursday\n",
      "This is day Friday\n",
      "This is day Saturday\n",
      "This is day Sunday\n",
      "This is month June\n",
      "This is day Monday\n",
      "This is day Tuesday\n",
      "This is day Wednesday\n",
      "This is day Thursday\n",
      "This is day Friday\n",
      "This is day Saturday\n",
      "This is day Sunday\n",
      "This is month July\n",
      "This is day Monday\n",
      "This is day Tuesday\n",
      "This is day Wednesday\n",
      "This is day Thursday\n",
      "This is day Friday\n",
      "This is day Saturday\n",
      "This is day Sunday\n",
      "This is month August\n",
      "This is day Monday\n",
      "This is day Tuesday\n",
      "This is day Wednesday\n",
      "This is day Thursday\n",
      "This is day Friday\n",
      "This is day Saturday\n",
      "This is day Sunday\n",
      "This is month September\n",
      "This is day Monday\n",
      "This is day Tuesday\n",
      "This is day Wednesday\n",
      "This is day Thursday\n",
      "This is day Friday\n",
      "This is day Saturday\n",
      "This is day Sunday\n",
      "This is month October\n",
      "This is day Monday\n",
      "This is day Tuesday\n",
      "This is day Wednesday\n",
      "This is day Thursday\n",
      "This is day Friday\n",
      "This is day Saturday\n",
      "This is day Sunday\n",
      "This is month November\n",
      "This is day Monday\n",
      "This is day Tuesday\n",
      "This is day Wednesday\n",
      "This is day Thursday\n",
      "This is day Friday\n",
      "This is day Saturday\n",
      "This is day Sunday\n",
      "This is month December\n",
      "This is day Monday\n",
      "This is day Tuesday\n",
      "This is day Wednesday\n",
      "This is day Thursday\n",
      "This is day Friday\n",
      "This is day Saturday\n",
      "This is day Sunday\n",
      "This is year 2005\n",
      "This is month January\n",
      "This is day Monday\n",
      "This is day Tuesday\n",
      "This is day Wednesday\n",
      "This is day Thursday\n",
      "This is day Friday\n",
      "This is day Saturday\n",
      "This is day Sunday\n",
      "This is month February\n",
      "This is day Monday\n",
      "This is day Tuesday\n",
      "This is day Wednesday\n",
      "This is day Thursday\n",
      "This is day Friday\n",
      "This is day Saturday\n",
      "This is day Sunday\n",
      "This is month March\n",
      "This is day Monday\n",
      "This is day Tuesday\n",
      "This is day Wednesday\n",
      "This is day Thursday\n",
      "This is day Friday\n",
      "This is day Saturday\n",
      "This is day Sunday\n",
      "This is month April\n",
      "This is day Monday\n",
      "This is day Tuesday\n",
      "This is day Wednesday\n",
      "This is day Thursday\n",
      "This is day Friday\n",
      "This is day Saturday\n",
      "This is day Sunday\n",
      "This is month May\n",
      "This is day Monday\n",
      "This is day Tuesday\n",
      "This is day Wednesday\n",
      "This is day Thursday\n",
      "This is day Friday\n",
      "This is day Saturday\n",
      "This is day Sunday\n",
      "This is month June\n",
      "This is day Monday\n",
      "This is day Tuesday\n",
      "This is day Wednesday\n",
      "This is day Thursday\n",
      "This is day Friday\n",
      "This is day Saturday\n",
      "This is day Sunday\n",
      "This is month July\n",
      "This is day Monday\n",
      "This is day Tuesday\n",
      "This is day Wednesday\n",
      "This is day Thursday\n",
      "This is day Friday\n",
      "This is day Saturday\n",
      "This is day Sunday\n",
      "This is month August\n",
      "This is day Monday\n",
      "This is day Tuesday\n",
      "This is day Wednesday\n",
      "This is day Thursday\n",
      "This is day Friday\n",
      "This is day Saturday\n",
      "This is day Sunday\n",
      "This is month September\n",
      "This is day Monday\n",
      "This is day Tuesday\n",
      "This is day Wednesday\n",
      "This is day Thursday\n",
      "This is day Friday\n",
      "This is day Saturday\n",
      "This is day Sunday\n",
      "This is month October\n",
      "This is day Monday\n",
      "This is day Tuesday\n",
      "This is day Wednesday\n",
      "This is day Thursday\n",
      "This is day Friday\n",
      "This is day Saturday\n",
      "This is day Sunday\n",
      "This is month November\n",
      "This is day Monday\n",
      "This is day Tuesday\n",
      "This is day Wednesday\n",
      "This is day Thursday\n",
      "This is day Friday\n",
      "This is day Saturday\n",
      "This is day Sunday\n",
      "This is month December\n",
      "This is day Monday\n",
      "This is day Tuesday\n",
      "This is day Wednesday\n",
      "This is day Thursday\n",
      "This is day Friday\n",
      "This is day Saturday\n",
      "This is day Sunday\n"
     ]
    }
   ],
   "source": [
    "for i in year:\n",
    "    print('This is year', i)\n",
    "    for j in month:\n",
    "        print('This is month', j)\n",
    "        for k in week:\n",
    "            print('This is day', k)"
   ]
  },
  {
   "cell_type": "markdown",
   "metadata": {},
   "source": [
    "#  Q2. Write a program which will find all such numbers which are divisible by 7 but are not a multiple of 5, between 2000 and 3200 (both included). The numbers obtained should be printed in a comma-separated sequence on a single line."
   ]
  },
  {
   "cell_type": "code",
   "execution_count": 28,
   "metadata": {},
   "outputs": [
    {
     "name": "stdout",
     "output_type": "stream",
     "text": [
      "2002,2009,2016,2023,2037,2044,2051,2058,2072,2079,2086,2093,2107,2114,2121,2128,2142,2149,2156,2163,2177,2184,2191,2198,2212,2219,2226,2233,2247,2254,2261,2268,2282,2289,2296,2303,2317,2324,2331,2338,2352,2359,2366,2373,2387,2394,2401,2408,2422,2429,2436,2443,2457,2464,2471,2478,2492,2499,2506,2513,2527,2534,2541,2548,2562,2569,2576,2583,2597,2604,2611,2618,2632,2639,2646,2653,2667,2674,2681,2688,2702,2709,2716,2723,2737,2744,2751,2758,2772,2779,2786,2793,2807,2814,2821,2828,2842,2849,2856,2863,2877,2884,2891,2898,2912,2919,2926,2933,2947,2954,2961,2968,2982,2989,2996,3003,3017,3024,3031,3038,3052,3059,3066,3073,3087,3094,3101,3108,3122,3129,3136,3143,3157,3164,3171,3178,3192,3199,"
     ]
    }
   ],
   "source": [
    "for i in range(2000,3201):\n",
    "    if i%7==0 and i%5!=0:\n",
    "        print(i,end=',')\n",
    "    else:\n",
    "        continue\n"
   ]
  },
  {
   "cell_type": "markdown",
   "metadata": {},
   "source": [
    " # Q3. Write a Python program to accept the user's first and last name and then getting them printed in the the reverse order with a space between first name and last name."
   ]
  },
  {
   "cell_type": "code",
   "execution_count": 3,
   "metadata": {},
   "outputs": [
    {
     "name": "stdout",
     "output_type": "stream",
     "text": [
      "Enter your first name : Mehboob\n",
      "Enter your last name : Zeirdi\n",
      "boobheM , idrieZ\n"
     ]
    }
   ],
   "source": [
    "a = input(\"Enter your first name : \")\n",
    "b = input(\"Enter your last name : \")\n",
    "print(a[::-1], \",\", b[::-1])"
   ]
  },
  {
   "cell_type": "markdown",
   "metadata": {},
   "source": [
    "# Q4. Write a Python program to find the volume of a sphere with diameter 12 cm.\n",
    "\n",
    "As we're not given the radius, but we have the diameter, then we can just divide it by two to get the radius."
   ]
  },
  {
   "cell_type": "code",
   "execution_count": 5,
   "metadata": {},
   "outputs": [
    {
     "name": "stdout",
     "output_type": "stream",
     "text": [
      "Volume of the Sphere is V =  904.3199999999999\n"
     ]
    }
   ],
   "source": [
    "pi = 3.14\n",
    "d = 12\n",
    "r = d/2\n",
    "formula = 4/3 * pi * r**3\n",
    "\n",
    "# r = float(input(\"Enter the radius : \"))\n",
    "# cube = r * r * r\n",
    "# cube = r ** 3\n",
    "\n",
    "print(\"Volume of the Sphere is V = \",formula)"
   ]
  },
  {
   "cell_type": "markdown",
   "metadata": {},
   "source": [
    "# Task 2\n",
    "\n",
    "# Q5. Write a program which accepts a sequence of comma-separated numbers from console and generate a list.\n"
   ]
  },
  {
   "cell_type": "code",
   "execution_count": 53,
   "metadata": {},
   "outputs": [
    {
     "name": "stdout",
     "output_type": "stream",
     "text": [
      "how many numbers do you wanna enter? 5\n",
      "2\n",
      "3\n",
      "2\n",
      "5\n",
      "6\n",
      "[2, 3, 2, 5, 6]\n"
     ]
    }
   ],
   "source": [
    "ls = []\n",
    "n = int(input(\"how many numbers do you wanna enter? \"))\n",
    "\n",
    "for i in range(0,n):\n",
    "    num = int(input())\n",
    "    ls.append(num)\n",
    "print(ls)"
   ]
  },
  {
   "cell_type": "markdown",
   "metadata": {},
   "source": [
    "# Q6. Create the below pattern using nested for loop in Python.\n"
   ]
  },
  {
   "cell_type": "code",
   "execution_count": 43,
   "metadata": {},
   "outputs": [
    {
     "name": "stdout",
     "output_type": "stream",
     "text": [
      "\n",
      "*\n",
      "**\n",
      "***\n",
      "****"
     ]
    }
   ],
   "source": [
    "for i in range (1,5):\n",
    "    print()\n",
    "    for j in range(0,i):\n",
    "        print(\"*\", end=\"\")"
   ]
  },
  {
   "cell_type": "code",
   "execution_count": 77,
   "metadata": {},
   "outputs": [
    {
     "name": "stdout",
     "output_type": "stream",
     "text": [
      " *****\n",
      " ****\n",
      " ***\n",
      " **\n",
      " *\n",
      " \n"
     ]
    }
   ],
   "source": [
    " j=5\n",
    "for i in range(0,6):\n",
    "    print(\"\",j*\"*\",end=\"\" )  \n",
    "    print()\n",
    "    j-=1"
   ]
  },
  {
   "cell_type": "code",
   "execution_count": 55,
   "metadata": {},
   "outputs": [
    {
     "name": "stdout",
     "output_type": "stream",
     "text": [
      "\n",
      "*\n",
      "**\n",
      "***\n",
      "****\n",
      "*****\n",
      "****\n",
      "***\n",
      "**\n",
      "*\n"
     ]
    }
   ],
   "source": [
    "for i in range (0,5):\n",
    "    print()\n",
    "    for j in range(0,i+1):\n",
    "        print(\"*\", end=\"\")\n",
    "for i in range(5,0,-1):\n",
    "    print()\n",
    "    for j in range(0,i-1):\n",
    "        print(\"*\", end=\"\")\n",
    "    "
   ]
  },
  {
   "cell_type": "markdown",
   "metadata": {},
   "source": [
    "# Q7. Write a Python program to reverse a word after accepting the input from the user."
   ]
  },
  {
   "cell_type": "code",
   "execution_count": 60,
   "metadata": {},
   "outputs": [
    {
     "name": "stdout",
     "output_type": "stream",
     "text": [
      "Mehboob Ali\n",
      "Before reversing the string : Mehboob Ali\n",
      "After reversing the string : ilA boobheM\n"
     ]
    }
   ],
   "source": [
    "str = input()\n",
    "print(\"Before reversing the string : {}\\nAfter reversing the string : {}\".format(str,str[::-1]))"
   ]
  },
  {
   "cell_type": "markdown",
   "metadata": {},
   "source": [
    "# Q8. Write a Python Program to print the given string in the format specified in the sample output."
   ]
  },
  {
   "cell_type": "code",
   "execution_count": 32,
   "metadata": {},
   "outputs": [
    {
     "name": "stdout",
     "output_type": "stream",
     "text": [
      "WE, THE PEOPLE OF INDIA, \n",
      "      having solemnly resolved to constitute India into a SOVEREIGN, !\n",
      "            SOCIALIST, SECULAR, DEMOCRATIC REPUBLIC \n",
      "             and to secure to all its citizens\n"
     ]
    }
   ],
   "source": [
    "str1 = \"WE, THE PEOPLE OF INDIA, having solemnly resolved to constitute India into a SOVEREIGN, ! SOCIALIST, SECULAR, DEMOCRATIC REPUBLIC and to secure to all its citizens\"\n",
    "str2 = str1[0:25]\n",
    "str3 = str1[25:89]\n",
    "str4 = str1[89:130]\n",
    "str5 = str1[130:]\n",
    "print(str2)\n",
    "print(\" \"*5,str3)\n",
    "print(\" \"*10,str4)\n",
    "print(\" \"*12,str5)"
   ]
  },
  {
   "cell_type": "code",
   "execution_count": 14,
   "metadata": {},
   "outputs": [
    {
     "name": "stdout",
     "output_type": "stream",
     "text": [
      "WE, THE PEOPLE OF INDIA, "
     ]
    }
   ],
   "source": [
    "str1 = \"WE, THE PEOPLE OF INDIA, having solemnly resolved to constitute India into a SOVEREIGN, ! SOCIALIST, SECULAR, DEMOCRATIC REPUBLIC and to secure to all its citizens\"\n",
    "for i in str1:\n",
    "    if i==\"h\":\n",
    "        break\n",
    "    print(i, end=\"\")\n",
    "\n",
    "        \n"
   ]
  },
  {
   "cell_type": "code",
   "execution_count": null,
   "metadata": {},
   "outputs": [],
   "source": [
    "\n"
   ]
  },
  {
   "cell_type": "code",
   "execution_count": null,
   "metadata": {},
   "outputs": [],
   "source": []
  },
  {
   "cell_type": "code",
   "execution_count": null,
   "metadata": {},
   "outputs": [],
   "source": []
  }
 ],
 "metadata": {
  "kernelspec": {
   "display_name": "Python 3",
   "language": "python",
   "name": "python3"
  },
  "language_info": {
   "codemirror_mode": {
    "name": "ipython",
    "version": 3
   },
   "file_extension": ".py",
   "mimetype": "text/x-python",
   "name": "python",
   "nbconvert_exporter": "python",
   "pygments_lexer": "ipython3",
   "version": "3.7.2"
  }
 },
 "nbformat": 4,
 "nbformat_minor": 4
}
